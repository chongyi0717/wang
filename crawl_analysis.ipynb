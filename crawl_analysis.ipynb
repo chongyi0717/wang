{
 "cells": [
  {
   "cell_type": "code",
   "execution_count": 15,
   "metadata": {},
   "outputs": [
    {
     "name": "stdout",
     "output_type": "stream",
     "text": [
      "time: 0 ns (started: 2024-03-28 20:32:35 +08:00)\n"
     ]
    }
   ],
   "source": [
    "import pandas as pd"
   ]
  },
  {
   "cell_type": "code",
   "execution_count": 16,
   "metadata": {},
   "outputs": [
    {
     "name": "stdout",
     "output_type": "stream",
     "text": [
      "time: 94 ms (started: 2024-03-28 20:32:35 +08:00)\n"
     ]
    }
   ],
   "source": [
    "day = pd.read_csv('output/day_data.csv')\n",
    "month = pd.read_csv('output/month_data.csv')\n",
    "day['投注金額（元）'] = day['投注金額（元）'].str.replace(',', '').astype(int)\n",
    "month['投注金額（元）'] = month['投注金額（元）'].str.replace(',', '').astype(int)"
   ]
  },
  {
   "cell_type": "code",
   "execution_count": 17,
   "metadata": {},
   "outputs": [
    {
     "data": {
      "text/plain": [
       "99134"
      ]
     },
     "execution_count": 17,
     "metadata": {},
     "output_type": "execute_result"
    },
    {
     "name": "stdout",
     "output_type": "stream",
     "text": [
      "time: 0 ns (started: 2024-03-28 20:32:35 +08:00)\n"
     ]
    }
   ],
   "source": [
    "len(day)"
   ]
  },
  {
   "cell_type": "code",
   "execution_count": 18,
   "metadata": {},
   "outputs": [
    {
     "name": "stdout",
     "output_type": "stream",
     "text": [
      "time: 16 ms (started: 2024-03-28 20:32:35 +08:00)\n"
     ]
    },
    {
     "name": "stderr",
     "output_type": "stream",
     "text": [
      "C:\\Users\\chong\\AppData\\Local\\Temp\\ipykernel_9296\\2791591774.py:9: FutureWarning: As the xlwt package is no longer maintained, the xlwt engine will be removed in a future version of pandas. This is the only engine in pandas that supports writing in the xls format. Install openpyxl and write to an xlsx file instead. You can set the option io.excel.xls.writer to 'xlwt' to silence this warning. While this option is deprecated and will also raise a warning, it can be globally set and the warning suppressed.\n",
      "  df_month.to_excel('投注金額_每月.xls',index=False)\n"
     ]
    }
   ],
   "source": [
    "df_month=pd.DataFrame(month)\n",
    "df_month['投注金額'] = df_month.groupby('會員代號')['投注金額（元）'].transform('sum')\n",
    "df_month.drop('投注金額（元）', axis=1, inplace=True)\n",
    "df_month = df_month[['會員代號','投注金額']]\n",
    "\n",
    "df_month.drop_duplicates(subset='會員代號', keep='first', inplace=True)\n",
    "df_month.sort_values(by='投注金額', ascending=False, inplace=True)\n",
    "df_month['抽獎機會']=df_month['投注金額']//200+1\n",
    "df_month.to_excel('投注金額_每月.xls',index=False)\n",
    "df_month.to_csv('投注金額_每月.csv',index=False)"
   ]
  },
  {
   "cell_type": "code",
   "execution_count": 19,
   "metadata": {},
   "outputs": [
    {
     "name": "stdout",
     "output_type": "stream",
     "text": [
      "time: 0 ns (started: 2024-03-28 20:32:35 +08:00)\n"
     ]
    }
   ],
   "source": [
    "from datetime import datetime\n",
    "start_date = datetime.strptime('2024-01-01', '%Y-%m-%d')\n",
    "end_date = datetime.strptime('2024-03-23', '%Y-%m-%d')"
   ]
  },
  {
   "cell_type": "code",
   "execution_count": 20,
   "metadata": {},
   "outputs": [
    {
     "name": "stdout",
     "output_type": "stream",
     "text": [
      "傑04675 -100 2024-01-02 00:00:00\n",
      "儒53912 -300 2024-01-15 00:00:00\n",
      "庭52960 -1110 2024-01-30 00:00:00\n",
      "容56772 -900 2024-02-29 00:00:00\n",
      "豊11330 -1000 2024-02-29 00:00:00\n",
      "豊11330 -200 2024-03-01 00:00:00\n",
      "time: 2.03 s (started: 2024-03-28 20:32:35 +08:00)\n"
     ]
    },
    {
     "name": "stderr",
     "output_type": "stream",
     "text": [
      "C:\\Users\\chong\\AppData\\Local\\Temp\\ipykernel_9296\\3944075257.py:19: FutureWarning: As the xlwt package is no longer maintained, the xlwt engine will be removed in a future version of pandas. This is the only engine in pandas that supports writing in the xls format. Install openpyxl and write to an xlsx file instead. You can set the option io.excel.xls.writer to 'xlwt' to silence this warning. While this option is deprecated and will also raise a warning, it can be globally set and the warning suppressed.\n",
      "  df_day.to_excel('投注金額_每日.xls',index=False)\n"
     ]
    }
   ],
   "source": [
    "df_day=pd.DataFrame(day)\n",
    "positive_amount = df_day['投注金額（元）'] >= 0\n",
    "\n",
    "df_day['日期'] = pd.to_datetime(df_day['日期'])\n",
    "\n",
    "df_day = df_day[(df_day['日期'] >= start_date) & (df_day['日期'] <= end_date)]\n",
    "for index,row in df_day.iterrows():\n",
    "    if row['投注金額（元）'] < 0:\n",
    "        print(row['會員代號'],row['投注金額（元）'],row['日期'])\n",
    "df_day['投注金額'] = df_day[positive_amount].groupby('會員代號')['投注金額（元）'].transform('sum')\n",
    "\n",
    "df_day.drop('投注金額（元）', axis=1, inplace=True)\n",
    "df_day = df_day[['會員代號','投注金額']]\n",
    "df_day.drop_duplicates(subset='會員代號', keep='first', inplace=True)\n",
    "df_day.sort_values(by='投注金額', ascending=False, inplace=True)\n",
    "df_day['抽獎機會']=df_day['投注金額']//200+1\n",
    "sum_lottery = sum(df_day['抽獎機會'])\n",
    "df_day['中獎機會'] = df_day['抽獎機會']/sum_lottery\n",
    "df_day.to_excel('投注金額_每日.xls',index=False)\n",
    "df_day.to_csv('投注金額_每日.csv',index=False)\n"
   ]
  },
  {
   "cell_type": "code",
   "execution_count": 21,
   "metadata": {},
   "outputs": [
    {
     "name": "stdout",
     "output_type": "stream",
     "text": [
      "投注金额在第一个数据框中较少的行：\n",
      "     會員代號  投注金額_dfm  抽獎機會_dfm   投注金額_dfd  抽獎機會_dfd      中獎機會       差異\n",
      "0  儒53912   3016600     15084  3006400.0   15033.0  0.093883  10200.0\n",
      "3  翰16520   1154460      5773  1149060.0    5746.0  0.035884   5400.0\n",
      "time: 0 ns (started: 2024-03-28 20:32:37 +08:00)\n"
     ]
    }
   ],
   "source": [
    "merged_df = pd.merge(df_month, df_day, on='會員代號', suffixes=('_dfm', '_dfd'))\n",
    "merged_df['差異'] = merged_df['投注金額_dfm']-merged_df['投注金額_dfd']\n",
    "# 找出投注金额在第一个数据框中较少的行\n",
    "less_bet_amount = merged_df[merged_df['投注金額_dfm'] > merged_df['投注金額_dfd']]\n",
    "print(\"投注金额在第一个数据框中较少的行：\")\n",
    "print(less_bet_amount)\n"
   ]
  }
 ],
 "metadata": {
  "kernelspec": {
   "display_name": "Python 3",
   "language": "python",
   "name": "python3"
  },
  "language_info": {
   "codemirror_mode": {
    "name": "ipython",
    "version": 3
   },
   "file_extension": ".py",
   "mimetype": "text/x-python",
   "name": "python",
   "nbconvert_exporter": "python",
   "pygments_lexer": "ipython3",
   "version": "3.8.10"
  }
 },
 "nbformat": 4,
 "nbformat_minor": 2
}
